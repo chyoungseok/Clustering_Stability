{
 "cells": [
  {
   "cell_type": "code",
   "execution_count": null,
   "metadata": {},
   "outputs": [],
   "source": [
    "from sklearn.datasets import load_iris\n",
    "from modules.stability_scheme1 import stability\n",
    "from sklearn.decomposition import PCA\n",
    "import numpy as np\n",
    "import matplotlib.pyplot as plt\n",
    "from modules.utils import clustering_algs\n",
    "from tqdm.notebook import tqdm\n",
    "from scipy.spatial.distance import cdist\n",
    "\n",
    "iris = load_iris()\n",
    "data = iris.data[:, 1:3]\n",
    "pca = PCA(n_components=2)\n",
    "X_pca = pca.fit_transform(iris.data)"
   ]
  },
  {
   "cell_type": "code",
   "execution_count": null,
   "metadata": {},
   "outputs": [],
   "source": [
    "list_bootClustering = []\n",
    "B = 5; K=3\n",
    "org_data = X_pca\n",
    "idx = np.arange(org_data.shape[0])\n",
    "Indicator = {True: 1, False: 0}\n",
    "\n",
    "instability_vector = np.empty((B, 1))\n",
    "for b in tqdm(range(B)):\n",
    "    resample_idx = np.random.choice(org_data.shape[0], size=org_data.shape[0], replace=True)\n",
    "    boot_data = org_data[resample_idx, ]\n",
    "    \n",
    "    # clustering for the bootstrapped data\n",
    "    _bootClustering_1 = clustering_algs(data = boot_data,\n",
    "                                        clst_alg = 'kmeans',\n",
    "                                        K = K,\n",
    "                                        random_state = b)\n",
    "    \n",
    "    _bootClustering_2 = clustering_algs(data = boot_data,\n",
    "                                        clst_alg = 'kmeans',\n",
    "                                        K = K,\n",
    "                                        random_state = b)\n",
    "    \n",
    "    list_bootClustering.append([_bootClustering_1, _bootClustering_2])\n",
    "\n",
    "    o2b_labels_1 = cdist(_bootClustering_1.center, org_data, metric='euclidean').argmin(axis=0) # original data를 bootClustering_1의 center에 mapping\n",
    "    o2b_labels_2 = cdist(_bootClustering_2.center, org_data, metric='euclidean').argmin(axis=0) # original data를 bootClustering_2의 center에 mapping\n",
    "    \n",
    "    temp_instability = 0\n",
    "    for i in idx:\n",
    "        for j in idx:\n",
    "            # if o2b_labels_1[i] == o2b_labels_1[j]:\n",
    "            #     if o2b_labels_2[i] != o2b_labels_2[j]:\n",
    "            #         temp_instability += 1\n",
    "            # elif o2b_labels_1[i] != o2b_labels_1[j]:\n",
    "            #     if o2b_labels_2[i] == o2b_labels_2[j]:\n",
    "            #         temp_instability += 1\n",
    "            temp_instability += abs(Indicator[o2b_labels_1[i] == o2b_labels_1[j]] - Indicator[o2b_labels_2[i] == o2b_labels_2[j]])\n",
    "    \n",
    "    instability_vector[b] = temp_instability/(len(idx)**2)\n",
    "\n",
    "instability = np.mean(instability_vector)\n",
    "    \n"
   ]
  },
  {
   "cell_type": "code",
   "execution_count": null,
   "metadata": {},
   "outputs": [],
   "source": [
    "np.random.choice(10, 5, replace=True)"
   ]
  },
  {
   "cell_type": "code",
   "execution_count": null,
   "metadata": {},
   "outputs": [],
   "source": [
    "class instability():\n",
    "    @staticmethod\n",
    "    def plot_K_optimization(data, max_K=9, B=5):\n",
    "        instability_list = []\n",
    "        for k in range(2, max_K+1):\n",
    "            _instability = instability(org_data=X_pca, K=k)\n",
    "            instability_list.append(_instability.instability)\n",
    "        \n",
    "        print(instability_list)\n",
    "        \n",
    "        fig = plt.figure(figsize=(6, 6))\n",
    "        ax = fig.add_subplot(111)\n",
    "        plt.plot(range(2,max_K+1), instability_list, marker='o', label=\"S$_{min}$\");\n",
    "        plt.legend()\n",
    "        plt.ylabel(\"Instability\", fontdict={'fontsize':15})\n",
    "        plt.xlabel(\"K (number of clusters)\", fontdict={'fontsize':15})\n",
    "        plt.title(\"Optimize the K (Bootstrapping=%d times for each K)\" % B)\n",
    "        ax.set_xticks(range(2,max_K+1))\n",
    "\n",
    "    @staticmethod\n",
    "    def instability_path(data, K_list=None, B=5):\n",
    "        N = data.shape[0] # number of whole data\n",
    "        if K_list == None:\n",
    "            K_list = [3,4,5,6]\n",
    "        n_list = [int(N/4/4), int(N/4/3), int(N/4/2), int(N/4), int(N/3), int(N/2), N]\n",
    "\n",
    "        instability_paths = np.empty((len(K_list), len(n_list)))\n",
    "        \n",
    "        for ki, k in enumerate(K_list):\n",
    "            for ni, temp_n in enumerate(n_list):\n",
    "                _instability = instability(org_data=data, K=k, B=B, resample_size=temp_n)\n",
    "                instability_paths[ki, ni] = _instability.instability\n",
    "\n",
    "        plt.plot(instability_paths.T, 'o--')\n",
    "        plt.legend(K_list)\n",
    "        return instability_paths\n",
    "\n",
    "\n",
    "    def __init__(self, org_data, K=2, B=10, clst_alg='kmeans', resample_size=None) -> None:\n",
    "        self.org_data = org_data\n",
    "        self.K = K\n",
    "        self.B = B\n",
    "        self.clst_alg = clst_alg\n",
    "        if type(resample_size) == type(None):\n",
    "            self.resample_size = org_data.shape[0]\n",
    "        else:\n",
    "            self.resample_size = resample_size\n",
    "\n",
    "        # Clustering for the each pair of the bootstrapped data\n",
    "        list_bootClustering = []\n",
    "        instability_vector = np.empty((B, 1))\n",
    "        idx = np.arange(org_data.shape[0])\n",
    "        Indicator = {True: 1, False: 0}\n",
    "        \n",
    "        for b in range(B):\n",
    "            resample_idx = np.random.choice(org_data.shape[0], size=self.resample_size, replace=True)\n",
    "            boot_data_1 = org_data[resample_idx, ]\n",
    "\n",
    "            resample_idx = np.random.choice(org_data.shape[0], size=self.resample_size, replace=True)\n",
    "            boot_data_2 = org_data[resample_idx, ]\n",
    "            \n",
    "            # clustering for the bootstrapped data\n",
    "            _bootClustering_1 = clustering_algs(data = boot_data_1,\n",
    "                                                clst_alg = 'kmeans',\n",
    "                                                K = K,\n",
    "                                                random_state = 2*b)\n",
    "            \n",
    "            _bootClustering_2 = clustering_algs(data = boot_data_2,\n",
    "                                                clst_alg = 'kmeans',\n",
    "                                                K = K,\n",
    "                                                random_state = 2*b+1)\n",
    "            \n",
    "            list_bootClustering.append([_bootClustering_1, _bootClustering_2])\n",
    "\n",
    "            o2b_labels_1 = cdist(_bootClustering_1.center, org_data, metric='euclidean').argmin(axis=0) # original data를 bootClustering_1의 center에 mapping\n",
    "            o2b_labels_2 = cdist(_bootClustering_2.center, org_data, metric='euclidean').argmin(axis=0) # original data를 bootClustering_2의 center에 mapping\n",
    "            \n",
    "            temp_instability = 0\n",
    "            for i in idx:\n",
    "                for j in idx:\n",
    "                    # if o2b_labels_1[i] == o2b_labels_1[j]:\n",
    "                    #     if o2b_labels_2[i] != o2b_labels_2[j]:\n",
    "                    #         temp_instability += 1\n",
    "                    # elif o2b_labels_1[i] != o2b_labels_1[j]:\n",
    "                    #     if o2b_labels_2[i] == o2b_labels_2[j]:\n",
    "                    #         temp_instability += 1\n",
    "                    temp_instability += abs(Indicator[o2b_labels_1[i] == o2b_labels_1[j]] - Indicator[o2b_labels_2[i] == o2b_labels_2[j]])\n",
    "            \n",
    "            instability_vector[b] = temp_instability/(len(idx)**2)\n",
    "        instability = np.mean(instability_vector)\n",
    "\n",
    "        self.list_bootClustering = list_bootClustering\n",
    "        self.instability_vector = instability_vector\n",
    "        self.instability = instability\n",
    "        "
   ]
  },
  {
   "cell_type": "code",
   "execution_count": null,
   "metadata": {},
   "outputs": [],
   "source": [
    "instability_list = []\n",
    "for k in tqdm(range(9)):\n",
    "    if k < 2:\n",
    "        continue\n",
    "    _instability = instability(org_data=X_pca, K=k)\n",
    "\n",
    "    instability_list.append(_instability.instability)\n",
    "    print(_instability.instability)\n"
   ]
  },
  {
   "cell_type": "code",
   "execution_count": null,
   "metadata": {},
   "outputs": [],
   "source": [
    "instability.plot_K_optimization(data=X_pca)"
   ]
  },
  {
   "cell_type": "code",
   "execution_count": null,
   "metadata": {},
   "outputs": [],
   "source": [
    "paths = instability.instability_path(data=X_pca, B=10)"
   ]
  },
  {
   "cell_type": "code",
   "execution_count": null,
   "metadata": {},
   "outputs": [],
   "source": [
    "paths"
   ]
  },
  {
   "cell_type": "code",
   "execution_count": null,
   "metadata": {},
   "outputs": [],
   "source": [
    "plt.plot(paths.T, 'o--')\n",
    "plt.legend([3,4,5,6])"
   ]
  },
  {
   "cell_type": "code",
   "execution_count": null,
   "metadata": {},
   "outputs": [],
   "source": [
    "a = [1]\n",
    "b = a + [1, 2]\n",
    "print(b)\n",
    "\n",
    "set(a).intersection(b)"
   ]
  },
  {
   "cell_type": "code",
   "execution_count": null,
   "metadata": {},
   "outputs": [],
   "source": [
    "from modules import instability\n",
    "\n",
    "path = instability.instability.instability_path(data=X_pca)"
   ]
  },
  {
   "cell_type": "code",
   "execution_count": null,
   "metadata": {},
   "outputs": [],
   "source": [
    "instability.instability.plot_K_optimization(data=X_pca)"
   ]
  }
 ],
 "metadata": {
  "kernelspec": {
   "display_name": "bootclust",
   "language": "python",
   "name": "python3"
  },
  "language_info": {
   "codemirror_mode": {
    "name": "ipython",
    "version": 3
   },
   "file_extension": ".py",
   "mimetype": "text/x-python",
   "name": "python",
   "nbconvert_exporter": "python",
   "pygments_lexer": "ipython3",
   "version": "3.7.16"
  },
  "orig_nbformat": 4
 },
 "nbformat": 4,
 "nbformat_minor": 2
}
